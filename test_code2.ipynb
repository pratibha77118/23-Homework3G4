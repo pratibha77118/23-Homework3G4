{
  "nbformat": 4,
  "nbformat_minor": 0,
  "metadata": {
    "colab": {
      "provenance": [],
      "authorship_tag": "ABX9TyPhSeOyZn2A6lYTjiX0cMnf",
      "include_colab_link": true
    },
    "kernelspec": {
      "name": "python3",
      "display_name": "Python 3"
    },
    "language_info": {
      "name": "python"
    }
  },
  "cells": [
    {
      "cell_type": "markdown",
      "metadata": {
        "id": "view-in-github",
        "colab_type": "text"
      },
      "source": [
        "<a href=\"https://colab.research.google.com/github/pratibha77118/23-Homework3G4/blob/Code_with_module/test_code2.ipynb\" target=\"_parent\"><img src=\"https://colab.research.google.com/assets/colab-badge.svg\" alt=\"Open In Colab\"/></a>"
      ]
    },
    {
      "cell_type": "code",
      "execution_count": 40,
      "metadata": {
        "id": "RyPARAV8rCnT"
      },
      "outputs": [],
      "source": [
        "# Import the required libraries for testing\n",
        "import math\n",
        "\n",
        "# Define a function to calculate work done\n",
        "def calculate_work_done(velocities, mass):\n",
        "    work_done = []\n",
        "    prev_velocity = 0\n",
        "    for velocity in velocities:\n",
        "        delta_ke = 0.5 * mass * (velocity**2 - prev_velocity**2)\n",
        "        prev_velocity = velocity\n",
        "        work_done.append(delta_ke)\n",
        "    return work_done\n"
      ]
    },
    {
      "cell_type": "code",
      "source": [
        "%%writefile utest3.py"
      ],
      "metadata": {
        "colab": {
          "base_uri": "https://localhost:8080/"
        },
        "id": "1EsWXjPH3Xcg",
        "outputId": "e143aa9a-d498-4bed-c9eb-fd258fd61263"
      },
      "execution_count": 53,
      "outputs": [
        {
          "output_type": "stream",
          "name": "stdout",
          "text": [
            "Overwriting utest3.py\n"
          ]
        }
      ]
    },
    {
      "cell_type": "code",
      "source": [
        "import utest3  # Import the calculate_work_done function\n",
        "import math\n",
        "\n",
        "def test_calculate_work_done():\n",
        "    # Given data\n",
        "    v_mph = [0, 20, 30, 40, 50,60,70]\n",
        "    mph_to_mps = 0.44704\n",
        "    mass_of_car = 1000\n",
        "\n",
        "    # Convert velocities from mph to m/s using the same lambda function\n",
        "    convert_to_mps = lambda v_mph: v_mph * mph_to_mps\n",
        "    v_mps = list(map(convert_to_mps, v_mph))\n",
        "\n",
        "    # Calculate the expected work done at each point manually\n",
        "    expected_work_done = []\n",
        "    prev_velocity = 0\n",
        "    for velocity in v_mps:\n",
        "        delta_ke = 0.5 * mass_of_car * (velocity ** 2 - prev_velocity ** 2)\n",
        "        prev_velocity = velocity\n",
        "        expected_work_done.append(delta_ke)\n",
        "\n",
        "    # Calculate work done using the calculate_work_done function\n",
        "    calculated_work_done = list(calculate_work_done(v_mps, mass_of_car))\n",
        "\n",
        "    for calculated in calculated_work_done:\n",
        "        print(round(calculated, 2))\n",
        "\n",
        "    # Assert that the calculated work done matches the expected values\n",
        "    for expected, calculated in zip(expected_work_done, calculated_work_done):\n",
        "        assert math.isclose(expected, calculated, rel_tol=1e-9), f\"Expected {expected}, but got {calculated}\"\n",
        "\n",
        "# Run the test function\n",
        "test_calculate_work_done()\n"
      ],
      "metadata": {
        "colab": {
          "base_uri": "https://localhost:8080/"
        },
        "id": "PeSG7R7mASIM",
        "outputId": "0ac220ab-cd5c-4356-8623-4e791a0f3992"
      },
      "execution_count": 56,
      "outputs": [
        {
          "output_type": "stream",
          "name": "stdout",
          "text": [
            "0.0\n",
            "39968.95\n",
            "49961.19\n",
            "69945.67\n",
            "89930.14\n",
            "109914.62\n",
            "129899.1\n"
          ]
        }
      ]
    }
  ]
}